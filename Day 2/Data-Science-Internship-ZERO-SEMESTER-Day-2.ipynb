{
 "cells": [
  {
   "cell_type": "markdown",
   "id": "0fcdc759",
   "metadata": {},
   "source": [
    " # Welcome to DS Internship offered by Glowingsoft Technologies\n",
    "## Follow for more opportunities <a href=\"https://www.linkedin.com/in/cwtausif/\">Tausif Ul Rahman</a> and <a href=\"https://www.linkedin.com/company/glowingsoft\">Glowingsoft Technologies</a>\n",
    "## Blog for Free Tutorials: <a href=\"httts://tutorialscache.com\">Tutorialscache</a>\n",
    "## Youtube Channel: <a href=\"https://www.youtube.com/channel/UCAewTM9d3KZBV-vEHajZ5RQ\">Code with Tausif</a>"
   ]
  },
  {
   "cell_type": "markdown",
   "id": "85ee8843",
   "metadata": {},
   "source": [
    "# Getting Started"
   ]
  },
  {
   "cell_type": "markdown",
   "id": "5c016e2c",
   "metadata": {},
   "source": [
    "### Basic Python syntax: variables, data types, arithmetic operations\n",
    "Watch This playlist to master you python skills <a href=\"https://www.youtube.com/watch?v=L3tzSnrIixI&list=PLuqiuVSCTLiU42WKqUc2NP4lBuGuOscIR\">Watch Now</a>"
   ]
  },
  {
   "cell_type": "markdown",
   "id": "1b3b7ce1",
   "metadata": {},
   "source": [
    "#### Task: Write a Python program to create a list of numbers, calculate the sum of the list, and find the maximum and minimum values."
   ]
  },
  {
   "cell_type": "markdown",
   "id": "56db6ee8",
   "metadata": {},
   "source": [
    "Story: Hello i have recently visited a grocery store and shopped few items. I want you to implement above program requirements on my shopping items."
   ]
  },
  {
   "cell_type": "markdown",
   "id": "728840b7",
   "metadata": {},
   "source": [
    "## Create Shopping List"
   ]
  },
  {
   "cell_type": "code",
   "execution_count": 1,
   "id": "4c6d3523",
   "metadata": {},
   "outputs": [],
   "source": [
    "# Prices of purchased grocery items\n",
    "orderItems = [83,90,71,88,27,36,99,65,101,176,45,20,59]"
   ]
  },
  {
   "cell_type": "markdown",
   "id": "ac654bdb",
   "metadata": {},
   "source": [
    "## Total Order Value : Method 1"
   ]
  },
  {
   "cell_type": "code",
   "execution_count": 2,
   "id": "8a21e928",
   "metadata": {},
   "outputs": [
    {
     "name": "stdout",
     "output_type": "stream",
     "text": [
      "Total Order Price: 960\n"
     ]
    }
   ],
   "source": [
    "# Sum of Order Items : Method 1\n",
    "total = 0;\n",
    "for m in orderItems:\n",
    "    total = total + m;\n",
    "    \n",
    "print(\"Total Order Price:\",total)"
   ]
  },
  {
   "cell_type": "markdown",
   "id": "9ae9bbf6",
   "metadata": {},
   "source": [
    "## Total Order Value : Method 2"
   ]
  },
  {
   "cell_type": "code",
   "execution_count": 3,
   "id": "7aef2a6b",
   "metadata": {},
   "outputs": [
    {
     "name": "stdout",
     "output_type": "stream",
     "text": [
      "Total Order Price: 960\n"
     ]
    }
   ],
   "source": [
    "# Sum of Order Items : Method 2\n",
    "total = sum(orderItems)\n",
    "print(\"Total Order Price:\",total)"
   ]
  },
  {
   "cell_type": "markdown",
   "id": "f0e210ea",
   "metadata": {},
   "source": [
    "##  Most Expensive Item : Method 1"
   ]
  },
  {
   "cell_type": "code",
   "execution_count": 4,
   "id": "113f0137",
   "metadata": {},
   "outputs": [
    {
     "name": "stdout",
     "output_type": "stream",
     "text": [
      "Most expensive Item:  176\n"
     ]
    }
   ],
   "source": [
    "# Maximum: Most expensive Item : Method 1\n",
    "price = 0;\n",
    "for itemPrice in orderItems:\n",
    "    if(itemPrice>price):\n",
    "        price = itemPrice;\n",
    "print(\"Most expensive Item: \",price)"
   ]
  },
  {
   "cell_type": "markdown",
   "id": "f10074b7",
   "metadata": {},
   "source": [
    "##  Most Expensive Item : Method 2"
   ]
  },
  {
   "cell_type": "code",
   "execution_count": 5,
   "id": "37f979fa",
   "metadata": {},
   "outputs": [
    {
     "name": "stdout",
     "output_type": "stream",
     "text": [
      "Most expensive Item:  176\n"
     ]
    }
   ],
   "source": [
    "# Maximum: Most expensive Item : Method 2\n",
    "maximum = max(orderItems)\n",
    "print(\"Most expensive Item: \",price)"
   ]
  },
  {
   "cell_type": "markdown",
   "id": "bdee3d6b",
   "metadata": {},
   "source": [
    "##  Cheapest Item : Method 1"
   ]
  },
  {
   "cell_type": "code",
   "execution_count": 6,
   "id": "6b0e3980",
   "metadata": {},
   "outputs": [
    {
     "name": "stdout",
     "output_type": "stream",
     "text": [
      "Cheapest Item:  20\n"
     ]
    }
   ],
   "source": [
    "# Manimum: Cheapest Item : Method 1\n",
    "price = orderItems[0];\n",
    "for itemPrice in orderItems:\n",
    "    if(itemPrice<price):\n",
    "        price = itemPrice;\n",
    "print(\"Cheapest Item: \",price)"
   ]
  },
  {
   "cell_type": "markdown",
   "id": "9ef0a092",
   "metadata": {},
   "source": [
    "##  Cheapest Item : Method 2"
   ]
  },
  {
   "cell_type": "code",
   "execution_count": 7,
   "id": "a6a31908",
   "metadata": {},
   "outputs": [
    {
     "name": "stdout",
     "output_type": "stream",
     "text": [
      "Cheapest Item:  20\n"
     ]
    }
   ],
   "source": [
    "# Manimum: Cheapest Item : Method 2\n",
    "minimum = min(orderItems)\n",
    "print(\"Cheapest Item: \",price)"
   ]
  },
  {
   "cell_type": "markdown",
   "id": "31cab507",
   "metadata": {},
   "source": [
    "# BONUS: Find outlier"
   ]
  },
  {
   "cell_type": "code",
   "execution_count": 8,
   "id": "9e94c862",
   "metadata": {},
   "outputs": [],
   "source": [
    "#Import libraries\n",
    "import numpy as np\n",
    "import matplotlib.pyplot as plt\n",
    "import seaborn as sns"
   ]
  },
  {
   "cell_type": "code",
   "execution_count": 9,
   "id": "5c01184e",
   "metadata": {},
   "outputs": [
    {
     "data": {
      "image/png": "[encoded data removed]",
      "text/plain": [
       "<Figure size 640x480 with 1 Axes>"
      ]
     },
     "metadata": {},
     "output_type": "display_data"
    }
   ],
   "source": [
    "def find_outliers(data, threshold=3):\n",
    "    # Calculate mean and standard deviation\n",
    "    mean = np.mean(data)\n",
    "    std = np.std(data)\n",
    "\n",
    "    # Calculate Z-scores\n",
    "    z_scores = [(x - mean) / std for x in data]\n",
    "\n",
    "    # Find outliers\n",
    "    outliers = [(data[i], i) for i, z in enumerate(z_scores) if abs(z) > threshold]\n",
    "\n",
    "    return outliers\n",
    "\n",
    "# Find outliers\n",
    "outliers = find_outliers(orderItems)\n",
    "\n",
    "# Plot boxplot to visualize outliers\n",
    "plt.figure()\n",
    "sns.boxplot(x=orderItems)\n",
    "plt.title(\"Boxplot of Grocery Prices\")\n",
    "\n",
    "plt.show()\n"
   ]
  },
  {
   "cell_type": "code",
   "execution_count": null,
   "id": "ee676563",
   "metadata": {},
   "outputs": [],
   "source": []
  }
 ],
 "metadata": {
  "kernelspec": {
   "display_name": "Python 3 (ipykernel)",
   "language": "python",
   "name": "python3"
  },
  "language_info": {
   "codemirror_mode": {
    "name": "ipython",
    "version": 3
   },
   "file_extension": ".py",
   "mimetype": "text/x-python",
   "name": "python",
   "nbconvert_exporter": "python",
   "pygments_lexer": "ipython3",
   "version": "3.9.13"
  }
 },
 "nbformat": 4,
 "nbformat_minor": 5
}
