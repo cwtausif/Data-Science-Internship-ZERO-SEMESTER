{
 "cells": [
  {
   "cell_type": "markdown",
   "id": "c7aa2d04",
   "metadata": {},
   "source": [
    " # Welcome to DS Internship offered by Glowingsoft Technologies\n",
    "## Follow for more opportunities <a href=\"https://www.linkedin.com/in/cwtausif/\">Tausif Ul Rahman</a> and <a href=\"https://www.linkedin.com/company/glowingsoft\">Glowingsoft Technologies</a>\n",
    "## Blog for Free Tutorials: <a href=\"httts://tutorialscache.com\">Tutorialscache</a>\n",
    "## Youtube Channel: <a href=\"https://www.youtube.com/channel/UCAewTM9d3KZBV-vEHajZ5RQ\">Code with Tausif</a>"
   ]
  },
  {
   "cell_type": "markdown",
   "id": "da71c834",
   "metadata": {},
   "source": [
    "### Get Started"
   ]
  },
  {
   "cell_type": "markdown",
   "id": "e35b1807",
   "metadata": {},
   "source": [
    "### Introduction to Python and its importance in data science\n",
    "Python is a highly recommended programming language for data science. It has very rich libraries to perform data science tasks like Pandas, Numpy etc"
   ]
  },
  {
   "cell_type": "markdown",
   "id": "b59463ee",
   "metadata": {},
   "source": [
    "### Installing Python and an integrated development environment (IDE)\n",
    "1. Install Python https://www.python.org/downloads/\n",
    "2. Install Anaconda https://docs.anaconda.com/free/anaconda/install/windows/"
   ]
  },
  {
   "cell_type": "markdown",
   "id": "46832e6c",
   "metadata": {},
   "source": [
    "### Basic Python syntax: variables, data types, arithmetic operations\n",
    "Watch This playlist to master you python skills <a href=\"https://www.youtube.com/watch?v=L3tzSnrIixI&list=PLuqiuVSCTLiU42WKqUc2NP4lBuGuOscIR\">Watch Now</a>"
   ]
  },
  {
   "cell_type": "markdown",
   "id": "cd0395f3",
   "metadata": {},
   "source": [
    "#### Task: Write a Python program to calculate the area of a rectangle given its length and width."
   ]
  },
  {
   "cell_type": "code",
   "execution_count": 1,
   "id": "03f0e6bc",
   "metadata": {},
   "outputs": [
    {
     "name": "stdout",
     "output_type": "stream",
     "text": [
      "Enter the length of the rectangle: 500\n",
      "You have entered the Length: \n",
      "500.0\n"
     ]
    }
   ],
   "source": [
    "# Step 1:\n",
    "# Input Length\n",
    "length = float(input(\"Enter the length of the rectangle: \"))\n",
    "print(\"You have entered the Length: \")\n",
    "print(length)"
   ]
  },
  {
   "cell_type": "code",
   "execution_count": 2,
   "id": "643f90d5",
   "metadata": {},
   "outputs": [
    {
     "name": "stdout",
     "output_type": "stream",
     "text": [
      "Enter the width of the rectangle: 350\n",
      "You have entered the Width: \n",
      "350.0\n"
     ]
    }
   ],
   "source": [
    "# Step 2:\n",
    "# Input Width\n",
    "width = float(input(\"Enter the width of the rectangle: \"))\n",
    "print(\"You have entered the Width: \")\n",
    "print(width)"
   ]
  },
  {
   "cell_type": "code",
   "execution_count": 3,
   "id": "9fdaefa0",
   "metadata": {},
   "outputs": [],
   "source": [
    "# Step 3:\n",
    "# Calculate Area\n",
    "area = length * width"
   ]
  },
  {
   "cell_type": "code",
   "execution_count": 4,
   "id": "49c24d16",
   "metadata": {},
   "outputs": [
    {
     "name": "stdout",
     "output_type": "stream",
     "text": [
      "Rectangle Area with Length =  500.0  and width =  350.0  is =  175000.0\n"
     ]
    }
   ],
   "source": [
    "# Step 4:\n",
    "# Print Results\n",
    "print(\"Rectangle Area with Length = \",length,\" and width = \",width,\" is = \",area)"
   ]
  },
  {
   "cell_type": "markdown",
   "id": "b023d568",
   "metadata": {},
   "source": [
    "# BONUS: Drawing rectangle"
   ]
  },
  {
   "cell_type": "code",
   "execution_count": 5,
   "id": "b16dbe5c",
   "metadata": {},
   "outputs": [],
   "source": [
    "#Import Libraries\n",
    "import matplotlib.pyplot as plt\n",
    "import matplotlib.patches as patches"
   ]
  },
  {
   "cell_type": "code",
   "execution_count": 15,
   "id": "dfdec019",
   "metadata": {},
   "outputs": [
    {
     "name": "stdout",
     "output_type": "stream",
     "text": [
      "The area of the rectangle is: 175000.0\n"
     ]
    },
    {
     "data": {
      "image/png": "[encoded data removed]",
      "text/plain": [
       "<Figure size 640x480 with 1 Axes>"
      ]
     },
     "metadata": {},
     "output_type": "display_data"
    }
   ],
   "source": [
    "# Create a figure and axis\n",
    "fig, ax = plt.subplots()\n",
    "\n",
    "# Create a rectangle patch\n",
    "rectangle = patches.Rectangle((0, 0), width, length, linewidth=1, edgecolor='r', facecolor='none')\n",
    "\n",
    "# Add the rectangle patch to the axis\n",
    "ax.add_patch(rectangle)\n",
    "\n",
    "# Set axis limits and labels\n",
    "ax.set_xlim(1, width + 1)\n",
    "ax.set_ylim(1, length + 1)\n",
    "ax.set_xlabel('Width')\n",
    "ax.set_ylabel('Length')\n",
    "ax.set_aspect('equal', adjustable='box')\n",
    "\n",
    "# Print the result\n",
    "print(\"The area of the rectangle is:\", area)\n",
    "\n",
    "# Display the plot\n",
    "plt.show()"
   ]
  }
 ],
 "metadata": {
  "kernelspec": {
   "display_name": "Python 3 (ipykernel)",
   "language": "python",
   "name": "python3"
  },
  "language_info": {
   "codemirror_mode": {
    "name": "ipython",
    "version": 3
   },
   "file_extension": ".py",
   "mimetype": "text/x-python",
   "name": "python",
   "nbconvert_exporter": "python",
   "pygments_lexer": "ipython3",
   "version": "3.9.13"
  }
 },
 "nbformat": 4,
 "nbformat_minor": 5
}
